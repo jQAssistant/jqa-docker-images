{
 "cells": [
  {
   "cell_type": "code",
   "execution_count": 1,
   "metadata": {},
   "outputs": [],
   "source": [
    "import pandas as pd \n",
    "import plotly.express as px\n",
    "import pygal as pg\n",
    "from string import Template\n",
    "from IPython.core.display import display, HTML\n",
    "from IPython.display import HTML, Javascript, display\n",
    "\n",
    "neo4j_url=%env NEO4J_URL\n",
    "\n",
    "%reload_ext cypher\n",
    "%config CypherMagic.uri=neo4j_url + \"/db/data\"\n",
    "\n",
    "def configure_d3():\n",
    "    \"\"\"Tell require where to get d3 from in `require(['d3'])`\"\"\"\n",
    "    display(Javascript(\"\"\"\n",
    "    require.config({ \n",
    "      paths: {\n",
    "        lodash: \"/notebooks/vis/lib/lodash.min\",  \n",
    "        d3: \"/notebooks/vis/lib/d3.v4.min\"\n",
    "      }\n",
    "    })\"\"\"))\n",
    "\n",
    "configure_d3()\n",
    "\n",
    "base_html = \"\"\"\n",
    "<!DOCTYPE html>\n",
    "<html>\n",
    "  <head>\n",
    "  <script type=\"text/javascript\" src=\"/notebooks/vis/lib/svg.jquery.js\"></script>\n",
    "  <script type=\"text/javascript\" src=\"/notebooks/vis/lib/pygal-tooltips.min.js\"\"></script>\n",
    "  </head>\n",
    "  <body>\n",
    "    <figure>\n",
    "      {rendered_chart}\n",
    "    </figure>\n",
    "  </body>\n",
    "</html>\n",
    "\"\"\""
   ]
  },
  {
   "cell_type": "code",
   "execution_count": 2,
   "metadata": {},
   "outputs": [],
   "source": [
    "%cypher MATCH (n) RETURN count(n)"
   ]
  },
  {
   "cell_type": "code",
   "execution_count": 2,
   "metadata": {},
   "outputs": [],
   "source": [
    "packageHierarchy = %cypher MATCH (p:Package)-[:CONTAINS*]->(t:Type) \\\n",
    "                           WITH DISTINCT p.fqn AS packageName \\\n",
    "                           MATCH (p:Package{fqn: packageName})-[:CONTAINS]->(child) \\\n",
    "                           WHERE (child:Package AND exists((child)-[:CONTAINS*]->(:Type))) OR child:Type \\\n",
    "                           WITH p, child, child:Type AS leaf \\\n",
    "                           RETURN DISTINCT p.fqn AS Parent_Fqn, p.name AS Parent_Name, child.fqn AS Child_Fqn, child.name AS Child_Name, leaf AS Child_Is_Leaf \\\n",
    "                           ORDER BY Parent_Fqn\n",
    "\n",
    "package_hierarchy_df = packageHierarchy.get_dataframe()"
   ]
  },
  {
   "cell_type": "code",
   "execution_count": 3,
   "metadata": {},
   "outputs": [],
   "source": [
    "text = Template(open('../vis/circle-packing/circle-packing-diagram.html', 'r').read().replace(\"\\n\",\"\")).substitute({\n",
    "    'circle_data': package_hierarchy_df.to_csv(index = False).replace(\"\\r\\n\",\"\\\\n\").replace(\"\\n\",\"\\\\n\"),\n",
    "    'container': 'type-packing-diagram'\n",
    "})\n",
    "\n",
    "HTML(text)"
   ]
  },
  {
   "cell_type": "code",
   "execution_count": 4,
   "metadata": {},
   "outputs": [],
   "source": [
    "moduleDependencies = %cypher MATCH (p1:Package)-[:CONTAINS]->(t1:Type), \\\n",
    "                                   (p2:Package)-[:CONTAINS]->(t2:Type), \\\n",
    "                                   (t1)-[dep:DEPENDS_ON]->(t2) \\\n",
    "                             WHERE p1 <> p2 \\\n",
    "                             RETURN p1.name AS Source, \\\n",
    "                                    p2.name AS Target, \\\n",
    "                                    COUNT(dep) AS X_Count \\\n",
    "                             ORDER BY Source DESC\n",
    "\n",
    "moduleDependenciesData = moduleDependencies.get_dataframe().to_csv(index = False).replace(\"\\r\\n\",\"\\\\n\").replace(\"\\n\",\"\\\\n\")"
   ]
  },
  {
   "cell_type": "code",
   "execution_count": 5,
   "metadata": {},
   "outputs": [],
   "source": [
    "text = Template(open('../vis/chord/chord-diagram.html', 'r').read().replace(\"\\n\",\"\")).substitute({\n",
    "    'chord_data': moduleDependenciesData, \n",
    "    'container': 'module-chord-diagram'})\n",
    "\n",
    "HTML(text)"
   ]
  }
 ],
 "metadata": {
  "kernelspec": {
   "display_name": "Python 3",
   "language": "python",
   "name": "python3"
  },
  "language_info": {
   "codemirror_mode": {
    "name": "ipython",
    "version": 3
   },
   "file_extension": ".py",
   "mimetype": "text/x-python",
   "name": "python",
   "nbconvert_exporter": "python",
   "pygments_lexer": "ipython3",
   "version": "3.8.5"
  },
  "toc": {
   "base_numbering": 1,
   "nav_menu": {},
   "number_sections": true,
   "sideBar": true,
   "skip_h1_title": false,
   "title_cell": "Table of Contents",
   "title_sidebar": "Contents",
   "toc_cell": false,
   "toc_position": {},
   "toc_section_display": true,
   "toc_window_display": true
  }
 },
 "nbformat": 4,
 "nbformat_minor": 4
}