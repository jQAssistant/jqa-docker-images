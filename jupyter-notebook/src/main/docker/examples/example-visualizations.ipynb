{
 "cells": [
  {
   "cell_type": "markdown",
   "metadata": {},
   "source": [
    "# Example Visualizations\n",
    "\n",
    "This notebook provides example queries and visualizations."
   ]
  },
  {
   "cell_type": "markdown",
   "metadata": {},
   "source": [
    "## Setup\n",
    "The cell below is used to \n",
    "* import required libraries\n",
    "* setting up the connection to the Neo4j database\n",
    "* define the D3 based HTML template for custom visualizations"
   ]
  },
  {
   "cell_type": "code",
   "execution_count": null,
   "metadata": {},
   "outputs": [],
   "source": [
    "import pandas as pd \n",
    "import plotly.express as px\n",
    "import pygal as pg\n",
    "from pathlib import Path\n",
    "from string import Template\n",
    "from IPython.display import HTML, Javascript, display\n",
    "\n",
    "neo4j_url=%env NEO4J_URL\n",
    "from py2neo import Graph\n",
    "graph = Graph(neo4j_url + '/db/data')"
   ]
  },
  {
   "cell_type": "code",
   "execution_count": null,
   "metadata": {},
   "outputs": [],
   "source": [
    "d3v4 = Path('../vis/lib/d3.v4.min.js').read_text()\n",
    "d3v4 = \"<script type='text/javascript'>\" + d3v4 + \"</script>\"\n",
    "display(HTML(d3v4))"
   ]
  },
  {
   "cell_type": "code",
   "execution_count": null,
   "metadata": {},
   "outputs": [],
   "source": [
    "lodash = Path('../vis/lib/lodash.min.js').read_text()\n",
    "lodash = \"<script type='text/javascript'>\" + lodash + \"</script>\"\n",
    "display(HTML(lodash))"
   ]
  },
  {
   "cell_type": "code",
   "execution_count": null,
   "metadata": {},
   "outputs": [],
   "source": [
    "display(HTML(filename='../vis/chord/chord.css.html'))"
   ]
  },
  {
   "cell_type": "code",
   "execution_count": null,
   "metadata": {},
   "outputs": [],
   "source": [
    "display(HTML(filename='../vis/circle-packing/circle-packing.css.html'))"
   ]
  },
  {
   "cell_type": "markdown",
   "metadata": {},
   "source": [
    "## Table\n",
    "The simplest visualization is a table, the rows and columns are rendered directly from the result returned by the query."
   ]
  },
  {
   "cell_type": "code",
   "execution_count": null,
   "metadata": {},
   "outputs": [],
   "source": [
    "graph.run('''\n",
    "    MATCH  (a:Artifact)-[:CONTAINS]->(n:Type) \n",
    "    RETURN a.fqn as Artifact, \n",
    "           count(n) as TypesPerArtifact\n",
    "''').to_table()    "
   ]
  },
  {
   "cell_type": "markdown",
   "metadata": {},
   "source": [
    "## Pie Chart\n",
    "A pie chart is used for illustrating proportions, e.g. artifact sizes. Therefore the query returns a row per attifact, each containing the name and the number of contained types."
   ]
  },
  {
   "cell_type": "code",
   "execution_count": null,
   "metadata": {},
   "outputs": [],
   "source": [
    "artifactSizes = graph.run('''\n",
    "    MATCH (artifact:Artifact)-[:CONTAINS]->(type:Type)\n",
    "    RETURN coalesce(artifact.fqn, artifact.fileName) as Artifact, \n",
    "           count(type) AS Types\n",
    "''').to_data_frame()           \n",
    "\n",
    "px.pie(artifactSizes, values='Types', names='Artifact', title='Artifact Size')"
   ]
  },
  {
   "cell_type": "markdown",
   "metadata": {},
   "source": [
    "## Bar Chart and Stacked Bar Chart\n",
    "Bar charts are another way to visualize proportions. The example query below returns an artifact per row, each containg each containing the name of the artifact and the number of contained types."
   ]
  },
  {
   "cell_type": "code",
   "execution_count": null,
   "metadata": {},
   "outputs": [],
   "source": [
    "px.bar(artifactSizes, x='Artifact', y='Types', title='Artifact Size')  "
   ]
  },
  {
   "cell_type": "markdown",
   "metadata": {},
   "source": [
    "Bar charts may be stacked, e.g. to visualize the different Java class types (i.e. class, interface, enum or annotation) per artifact. The query therefore is extended by a column `JavaType` which determines the color. "
   ]
  },
  {
   "cell_type": "code",
   "execution_count": null,
   "metadata": {},
   "outputs": [],
   "source": [
    "artifactSizesByType = graph.run('''\n",
    "    MATCH  (artifact:Artifact)-[:CONTAINS]->(type:Type)\n",
    "    RETURN coalesce(artifact.fqn, artifact.fileName) as Artifact, \n",
    "           case\n",
    "               when type:Class then 'Class' \n",
    "               when type:Interface then 'Interface' \n",
    "               when type:Enum then 'Enum' \n",
    "               when type:Annotation then 'Annotation' \n",
    "               end as JavaType, count(type) as Types \n",
    "    ORDER BY Types desc\n",
    "''').to_data_frame()    \n",
    "\n",
    "px.bar(artifactSizesByType, x='Artifact', color='JavaType', y='Types', title='Artifact Size')"
   ]
  },
  {
   "cell_type": "markdown",
   "metadata": {},
   "source": [
    "## Circle Packing\n",
    "A circle packing diagram can be used to illustrate hierarchical structures, e.g. packages and their children. The query returns a flattened tree structure containing one row per parent/child-combination with four columns:\n",
    "* *Parent_Fqn*: the fully qualified name of the parent (e.g. type name including package name)\n",
    "* *Parent_Name*: the name of the parent (e.g. type name without package name)\n",
    "* *Child_Fqn*: the fully qualified name of the child\n",
    "* *Child_Is_Leaf*: a boolean value that if true indicates that the child has no further children (e.g. true for a type, false for a package)"
   ]
  },
  {
   "cell_type": "code",
   "execution_count": null,
   "metadata": {},
   "outputs": [],
   "source": [
    "packageHierarchy = graph.run('''\n",
    "    MATCH  (package:Package)-[:CONTAINS]->(element)\n",
    "    WHERE  (package)-[:CONTAINS*]->(:Type) and exists(element.fqn) AND (element:Type OR (element)-[:CONTAINS*]->(:Type))\n",
    "    WITH   package, element, element:Type as leaf\n",
    "    RETURN DISTINCT package.fqn AS Parent_Fqn, \n",
    "           package.name AS Parent_Name, \n",
    "           element.fqn AS Child_Fqn, \n",
    "           element.name AS Child_Name, \n",
    "           leaf AS Child_Is_Leaf\n",
    "''').to_data_frame()     \n",
    "\n",
    "packageHierarchyCsv = '\\\"' + packageHierarchy.to_csv(index = False).replace(\"\\r\\n\",\"\\n\").replace(\"\\n\",\"\\\\n\") + '\\\"'"
   ]
  },
  {
   "cell_type": "code",
   "execution_count": null,
   "metadata": {},
   "outputs": [],
   "source": [
    "circlePackingScript = Template(Path('../vis/circle-packing/circle-packing.js').read_text())\n",
    "\n",
    "Javascript(circlePackingScript.substitute(data=packageHierarchyCsv))"
   ]
  },
  {
   "cell_type": "markdown",
   "metadata": {},
   "source": [
    "## Treemap\n",
    "\n",
    "A treemap is another way of visualizing hierarchical structures. Each element is represented by a rectangle, the size and the color represent metrics per element. The example query returns a flattened tree containing one row per package:\n",
    "\n",
    "* *Element*: The name of the element to be displayed as rectangle\n",
    "* *Parent*: The name of the element's parent (optional for root elements)\n",
    "* *Size*: Determines the relative size of the rectangle\n",
    "* *Color*: Determines the color of the rectangle"
   ]
  },
  {
   "cell_type": "code",
   "execution_count": null,
   "metadata": {},
   "outputs": [],
   "source": [
    "packageTree = graph.run('''\n",
    "    MATCH (package:Package)\n",
    "    OPTIONAL MATCH (parent:Package)-[:CONTAINS]->(package)\n",
    "    OPTIONAL MATCH (package)-[:CONTAINS]->(type:Type)\n",
    "    OPTIONAL MATCH (type)-[:DECLARES]->(method:Method)\n",
    "    RETURN package.fqn as Element, parent.fqn as Parent, count(type) as Size, sum(method.effectiveLineCount) as Color\n",
    "''').to_data_frame()\n",
    "\n",
    "px.treemap(packageTree, names = 'Element', parents = 'Parent', values = 'Size', color= 'Color')"
   ]
  },
  {
   "cell_type": "markdown",
   "metadata": {},
   "source": [
    "## Chord Diagram\n",
    "A chord diagram is used to illustrate dependencies between elements, e.g. packages. The query for each dependency returns\n",
    "* *Source*: The name of the dependent element (e.g. source package)\n",
    "* *Target*: The name of the element's dependency (e.g. target package)\n",
    "* *X_Count*: The weight of of the dependency (e.g. the coupling between both packages)"
   ]
  },
  {
   "cell_type": "code",
   "execution_count": null,
   "metadata": {},
   "outputs": [],
   "source": [
    "packageDependencies = graph.run('''\n",
    "    MATCH  (p1:Package)-[:CONTAINS]->(t1:Type),\n",
    "           (p2:Package)-[:CONTAINS]->(t2:Type),\n",
    "           (t1)-[dep:DEPENDS_ON]->(t2)\n",
    "    WHERE  p1 <> p2\n",
    "    RETURN p1.name AS Source,\n",
    "           p2.name AS Target,\n",
    "           COUNT(dep) AS X_Count\n",
    "''').to_data_frame()           \n",
    "\n",
    "packageDependenciesCsv = '\\\"' + packageDependencies.to_csv(index = False).replace(\"\\r\\n\",\"\\n\").replace(\"\\n\",\"\\\\n\") + '\\\"'"
   ]
  },
  {
   "cell_type": "code",
   "execution_count": null,
   "metadata": {},
   "outputs": [],
   "source": [
    "chordScript = Template(Path('../vis/chord/chord.js').read_text())\n",
    "\n",
    "Javascript(chordScript.substitute(data=packageDependenciesCsv))"
   ]
  }
 ],
 "metadata": {
  "kernelspec": {
   "display_name": "Python 3 (ipykernel)",
   "language": "python",
   "name": "python3"
  },
  "language_info": {
   "codemirror_mode": {
    "name": "ipython",
    "version": 3
   },
   "file_extension": ".py",
   "mimetype": "text/x-python",
   "name": "python",
   "nbconvert_exporter": "python",
   "pygments_lexer": "ipython3",
   "version": "3.11.4"
  },
  "toc": {
   "base_numbering": 1,
   "nav_menu": {},
   "number_sections": true,
   "sideBar": true,
   "skip_h1_title": false,
   "title_cell": "Table of Contents",
   "title_sidebar": "Contents",
   "toc_cell": false,
   "toc_position": {},
   "toc_section_display": true,
   "toc_window_display": true
  }
 },
 "nbformat": 4,
 "nbformat_minor": 4
}
