{
 "cells": [
  {
   "cell_type": "markdown",
   "metadata": {},
   "source": [
    "# Example Visualizations\n",
    "\n",
    "This notebook provides example queries and visualizations."
   ]
  },
  {
   "cell_type": "markdown",
   "metadata": {},
   "source": [
    "## Setup\n",
    "The cell below is used to \n",
    "* import required libraries\n",
    "* setting up the connection to the Neo4j database\n",
    "* define the D3 based HTML template for custom visualizations"
   ]
  },
  {
   "cell_type": "code",
   "execution_count": null,
   "metadata": {},
   "outputs": [],
   "source": [
    "import pandas as pd \n",
    "import plotly.express as px\n",
    "import pygal as pg\n",
    "from string import Template\n",
    "from IPython.core.display import display, HTML\n",
    "from IPython.display import HTML, Javascript, display\n",
    "\n",
    "neo4j_url=%env NEO4J_URL\n",
    "\n",
    "%reload_ext cypher\n",
    "%config CypherMagic.uri=neo4j_url + \"/db/data\"\n",
    "\n",
    "def configure_d3():\n",
    "    \"\"\"Tell require where to get d3 from in `require(['d3'])`\"\"\"\n",
    "    display(Javascript(\"\"\"\n",
    "    require.config({ \n",
    "      paths: {\n",
    "        lodash: \"/notebooks/vis/lib/lodash.min\",  \n",
    "        d3: \"/notebooks/vis/lib/d3.v4.min\"\n",
    "      }\n",
    "    })\"\"\"))\n",
    "\n",
    "configure_d3()\n",
    "\n",
    "base_html = \"\"\"\n",
    "<!DOCTYPE html>\n",
    "<html>\n",
    "  <head>\n",
    "  <script type=\"text/javascript\" src=\"/notebooks/vis/lib/svg.jquery.js\"></script>\n",
    "  <script type=\"text/javascript\" src=\"/notebooks/vis/lib/pygal-tooltips.min.js\"\"></script>\n",
    "  </head>\n",
    "  <body>\n",
    "    <figure>\n",
    "      {rendered_chart}\n",
    "    </figure>\n",
    "  </body>\n",
    "</html>\n",
    "\"\"\""
   ]
  },
  {
   "cell_type": "markdown",
   "metadata": {},
   "source": [
    "## Table\n",
    "The simplest visualization is a table, the rows and columns are rendered directly from the result returned by the query."
   ]
  },
  {
   "cell_type": "code",
   "execution_count": null,
   "metadata": {},
   "outputs": [],
   "source": [
    "%cypher MATCH (a:Artifact)-[:CONTAINS]->(n:Type) RETURN a.fqn as Artifact, count(n) as TypesPerArtifact"
   ]
  },
  {
   "cell_type": "markdown",
   "metadata": {},
   "source": [
    "## Pie Chart\n",
    "A pie chart is used for illustrating proportions, e.g. package sizes. Therefore the query returns a row per package, each containing the name and the number of contained types."
   ]
  },
  {
   "cell_type": "code",
   "execution_count": null,
   "metadata": {
    "pycharm": {
     "name": "#%%\n"
    }
   },
   "outputs": [],
   "source": [
    "packageSize = %cypher MATCH (p:Package)-[:CONTAINS]->(t:Type) \\\n",
    "                      RETURN p.name as Package, count(DISTINCT t) AS Classes\n",
    "\n",
    "df = packageSize.get_dataframe()\n",
    "fig = px.pie(df, values='Classes', names='Package', title='Package Size')\n",
    "fig.show()"
   ]
  },
  {
   "cell_type": "markdown",
   "metadata": {},
   "source": [
    "## Circle Packing\n",
    "A circle packing diagram can be used to illustrate hierarchical structures, e.g. packages and their children. The query returns a flattened tree structure containing one row per parent/child-combination with four columns:\n",
    "* *Parent_Fqn*: the fully qualified name of the parent (e.g. type name including package name)\n",
    "* *Parent_Name*: the name of the parent (e.g. type name without package name)\n",
    "* *Child_Fqn*: the fully qualified name of the child\n",
    "* *Child_Is_Leaf*: a boolean value that if true indicates that the child has no further children (e.g. true for a type, false for a package)"
   ]
  },
  {
   "cell_type": "code",
   "execution_count": null,
   "metadata": {},
   "outputs": [],
   "source": [
    "packageHierarchy = %cypher MATCH (p:Package)-[:CONTAINS]->(t:Type) \\\n",
    "                           WITH DISTINCT p.fqn AS packageName \\\n",
    "                           MATCH (p:Package{fqn: packageName})-[:CONTAINS]->(child) \\\n",
    "                           WHERE (child:Package AND exists((child)-[:CONTAINS*]->(:Type))) OR child:Type \\\n",
    "                           WITH p, child, child:Type AS leaf \\\n",
    "                           RETURN DISTINCT p.fqn AS Parent_Fqn, p.name AS Parent_Name, child.fqn AS Child_Fqn, child.name AS Child_Name, leaf AS Child_Is_Leaf \\\n",
    "                           ORDER BY Parent_Fqn\n",
    "packageHierarchy"
   ]
  },
  {
   "cell_type": "code",
   "execution_count": null,
   "metadata": {},
   "outputs": [],
   "source": [
    "package_hierarchy_df = packageHierarchy.get_dataframe()\n",
    "text = Template(open('../vis/circle-packing/circle-packing-diagram.html', 'r').read().replace(\"\\n\",\"\")).substitute({\n",
    "    'circle_data': package_hierarchy_df.to_csv(index = False).replace(\"\\r\\n\",\"\\\\n\").replace(\"\\n\",\"\\\\n\"),\n",
    "    'container': 'type-packing-diagram'\n",
    "})\n",
    "\n",
    "HTML(text)"
   ]
  },
  {
   "cell_type": "markdown",
   "metadata": {},
   "source": [
    "## Chord Diagram\n",
    "A chord diagram is used to illustrate dependencies between elements, e.g. packages. The query for each dependency returns\n",
    "* *Source*: The name of the dependent element (e.g. source package)\n",
    "* *Target*: The name of the element's dependency (e.g. target package)\n",
    "* *X_Count*: The weight of of the dependency (e.g. the coupling between both packages)"
   ]
  },
  {
   "cell_type": "code",
   "execution_count": null,
   "metadata": {},
   "outputs": [],
   "source": [
    "packageDependencies = %cypher MATCH (p1:Package)-[:CONTAINS]->(t1:Type), \\\n",
    "                                    (p2:Package)-[:CONTAINS]->(t2:Type), \\\n",
    "                                    (t1)-[dep:DEPENDS_ON]->(t2) \\\n",
    "                             WHERE  p1 <> p2 \\\n",
    "                             RETURN p1.name AS Source, \\\n",
    "                                    p2.name AS Target, \\\n",
    "                                    COUNT(dep) AS X_Count \\\n",
    "                             ORDER BY Source, Target\n",
    "\n",
    "packageDependencies"
   ]
  },
  {
   "cell_type": "code",
   "execution_count": null,
   "metadata": {
    "pycharm": {
     "name": "#%%\n"
    }
   },
   "outputs": [],
   "source": [
    "packageDependenciesData = packageDependencies.get_dataframe().to_csv(index = False).replace(\"\\r\\n\",\"\\\\n\").replace(\"\\n\",\"\\\\n\")\n",
    "text = Template(open('../vis/chord/chord-diagram.html', 'r').read().replace(\"\\n\",\"\")).substitute({\n",
    "    'chord_data': packageDependenciesData,\n",
    "    'container': 'module-chord-diagram'})\n",
    "\n",
    "HTML(text)"
   ]
  }
 ],
 "metadata": {
  "kernelspec": {
   "display_name": "Python 3",
   "language": "python",
   "name": "python3"
  },
  "language_info": {
   "codemirror_mode": {
    "name": "ipython",
    "version": 3
   },
   "file_extension": ".py",
   "mimetype": "text/x-python",
   "name": "python",
   "nbconvert_exporter": "python",
   "pygments_lexer": "ipython3",
   "version": "3.8.6"
  },
  "toc": {
   "base_numbering": 1,
   "nav_menu": {},
   "number_sections": true,
   "sideBar": true,
   "skip_h1_title": false,
   "title_cell": "Table of Contents",
   "title_sidebar": "Contents",
   "toc_cell": false,
   "toc_position": {},
   "toc_section_display": true,
   "toc_window_display": true
  }
 },
 "nbformat": 4,
 "nbformat_minor": 4
}